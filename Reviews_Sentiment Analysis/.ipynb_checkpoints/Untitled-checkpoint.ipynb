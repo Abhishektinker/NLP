{
 "cells": [
  {
   "cell_type": "code",
   "execution_count": 149,
   "metadata": {},
   "outputs": [],
   "source": [
    "import pandas as pd\n",
    "import numpy as np\n",
    "import matplotlib.pyplot as plt\n",
    "import re\n",
    "from datetime import datetime\n",
    "import requests\n",
    "import nltk\n",
    "from textblob import TextBlob as tb\n",
    "from langdetect import detect "
   ]
  },
  {
   "cell_type": "code",
   "execution_count": 150,
   "metadata": {},
   "outputs": [],
   "source": [
    "data=pd.read_excel(\"Data Analyst - Test Data.xlsx\")"
   ]
  },
  {
   "cell_type": "code",
   "execution_count": 151,
   "metadata": {},
   "outputs": [
    {
     "name": "stdout",
     "output_type": "stream",
     "text": [
      "<class 'pandas.core.frame.DataFrame'>\n",
      "RangeIndex: 6448 entries, 0 to 6447\n",
      "Data columns (total 3 columns):\n",
      " #   Column    Non-Null Count  Dtype         \n",
      "---  ------    --------------  -----         \n",
      " 0   Review    6393 non-null   object        \n",
      " 1   date      6448 non-null   datetime64[ns]\n",
      " 2   Location  1711 non-null   object        \n",
      "dtypes: datetime64[ns](1), object(2)\n",
      "memory usage: 100.8+ KB\n"
     ]
    }
   ],
   "source": [
    "data.info()"
   ]
  },
  {
   "cell_type": "code",
   "execution_count": 152,
   "metadata": {},
   "outputs": [
    {
     "data": {
      "text/plain": [
       "4737"
      ]
     },
     "execution_count": 152,
     "metadata": {},
     "output_type": "execute_result"
    }
   ],
   "source": [
    "data['Location'].isna().sum()"
   ]
  },
  {
   "cell_type": "code",
   "execution_count": 153,
   "metadata": {
    "scrolled": true
   },
   "outputs": [
    {
     "data": {
      "text/html": [
       "<div>\n",
       "<style scoped>\n",
       "    .dataframe tbody tr th:only-of-type {\n",
       "        vertical-align: middle;\n",
       "    }\n",
       "\n",
       "    .dataframe tbody tr th {\n",
       "        vertical-align: top;\n",
       "    }\n",
       "\n",
       "    .dataframe thead th {\n",
       "        text-align: right;\n",
       "    }\n",
       "</style>\n",
       "<table border=\"1\" class=\"dataframe\">\n",
       "  <thead>\n",
       "    <tr style=\"text-align: right;\">\n",
       "      <th></th>\n",
       "      <th>Review</th>\n",
       "      <th>date</th>\n",
       "      <th>Location</th>\n",
       "    </tr>\n",
       "  </thead>\n",
       "  <tbody>\n",
       "    <tr>\n",
       "      <th>0</th>\n",
       "      <td>I was very impressed with the resort.\\n Great ...</td>\n",
       "      <td>2019-08-20</td>\n",
       "      <td>Sebastian</td>\n",
       "    </tr>\n",
       "    <tr>\n",
       "      <th>1</th>\n",
       "      <td>The rooms were nice the outside needs work als...</td>\n",
       "      <td>2019-08-20</td>\n",
       "      <td>Los Angeles</td>\n",
       "    </tr>\n",
       "    <tr>\n",
       "      <th>2</th>\n",
       "      <td>Great location! I have stayed at this hotel on...</td>\n",
       "      <td>2019-08-20</td>\n",
       "      <td>Georgia</td>\n",
       "    </tr>\n",
       "    <tr>\n",
       "      <th>3</th>\n",
       "      <td>The hotel was adequate for my stay. The strips...</td>\n",
       "      <td>2019-08-20</td>\n",
       "      <td>NaN</td>\n",
       "    </tr>\n",
       "    <tr>\n",
       "      <th>4</th>\n",
       "      <td>Great location, room was large and spacious. P...</td>\n",
       "      <td>2019-08-19</td>\n",
       "      <td>Palm Harbor</td>\n",
       "    </tr>\n",
       "  </tbody>\n",
       "</table>\n",
       "</div>"
      ],
      "text/plain": [
       "                                              Review       date     Location\n",
       "0  I was very impressed with the resort.\\n Great ... 2019-08-20    Sebastian\n",
       "1  The rooms were nice the outside needs work als... 2019-08-20  Los Angeles\n",
       "2  Great location! I have stayed at this hotel on... 2019-08-20      Georgia\n",
       "3  The hotel was adequate for my stay. The strips... 2019-08-20          NaN\n",
       "4  Great location, room was large and spacious. P... 2019-08-19  Palm Harbor"
      ]
     },
     "execution_count": 153,
     "metadata": {},
     "output_type": "execute_result"
    }
   ],
   "source": [
    "data.head(5)"
   ]
  },
  {
   "cell_type": "code",
   "execution_count": 155,
   "metadata": {},
   "outputs": [],
   "source": [
    "data['Review'].fillna(\" \",inplace=True)"
   ]
  },
  {
   "cell_type": "code",
   "execution_count": 156,
   "metadata": {
    "scrolled": true
   },
   "outputs": [],
   "source": [
    "data['Review']=data['Review'].apply(lambda x:x.lower())"
   ]
  },
  {
   "cell_type": "code",
   "execution_count": 158,
   "metadata": {},
   "outputs": [],
   "source": [
    "def lang(x):\n",
    "    try:\n",
    "        return detect(x)\n",
    "    except:\n",
    "        return \"UnKnown\""
   ]
  },
  {
   "cell_type": "code",
   "execution_count": 160,
   "metadata": {
    "scrolled": false
   },
   "outputs": [],
   "source": [
    "data['Language']=data['Review'].apply(lambda x: lang(x))"
   ]
  },
  {
   "cell_type": "code",
   "execution_count": 162,
   "metadata": {},
   "outputs": [],
   "source": [
    "data['Review']=data['Review'].apply(lambda x:re.findall(\"\\w+\",x))"
   ]
  },
  {
   "cell_type": "code",
   "execution_count": 163,
   "metadata": {},
   "outputs": [],
   "source": [
    "resp1=requests.get(\"https://ptrckprry.com/course/ssd/data/positive-words.txt\")"
   ]
  },
  {
   "cell_type": "code",
   "execution_count": 164,
   "metadata": {},
   "outputs": [],
   "source": [
    "raw_data1=resp1.content[1535:]"
   ]
  },
  {
   "cell_type": "code",
   "execution_count": 165,
   "metadata": {},
   "outputs": [],
   "source": [
    "positive_words=raw_data1.decode().split('\\n')[3:]"
   ]
  },
  {
   "cell_type": "code",
   "execution_count": 166,
   "metadata": {},
   "outputs": [],
   "source": [
    "resp2=requests.get(\"https://ptrckprry.com/course/ssd/data/negative-words.txt\")"
   ]
  },
  {
   "cell_type": "code",
   "execution_count": 167,
   "metadata": {},
   "outputs": [],
   "source": [
    "raw_data2=resp2.content[1550:]"
   ]
  },
  {
   "cell_type": "code",
   "execution_count": 168,
   "metadata": {},
   "outputs": [],
   "source": [
    "negative_words=raw_data2.decode(encoding='latin-1').split(\"\\n\")[1:]"
   ]
  },
  {
   "cell_type": "code",
   "execution_count": 169,
   "metadata": {},
   "outputs": [],
   "source": [
    "from nltk.corpus import stopwords"
   ]
  },
  {
   "cell_type": "code",
   "execution_count": 170,
   "metadata": {},
   "outputs": [],
   "source": [
    "stopwords=stopwords.words(\"english\")"
   ]
  },
  {
   "cell_type": "code",
   "execution_count": 171,
   "metadata": {},
   "outputs": [],
   "source": [
    "def remove(x):\n",
    "    for i in x:\n",
    "        if i.strip() in stopwords:\n",
    "            x.remove(i)\n",
    "    return x        "
   ]
  },
  {
   "cell_type": "code",
   "execution_count": 172,
   "metadata": {},
   "outputs": [],
   "source": [
    "data['Review']=data['Review'].apply(lambda x: remove(x))"
   ]
  },
  {
   "cell_type": "code",
   "execution_count": 173,
   "metadata": {
    "scrolled": false
   },
   "outputs": [
    {
     "data": {
      "text/html": [
       "<div>\n",
       "<style scoped>\n",
       "    .dataframe tbody tr th:only-of-type {\n",
       "        vertical-align: middle;\n",
       "    }\n",
       "\n",
       "    .dataframe tbody tr th {\n",
       "        vertical-align: top;\n",
       "    }\n",
       "\n",
       "    .dataframe thead th {\n",
       "        text-align: right;\n",
       "    }\n",
       "</style>\n",
       "<table border=\"1\" class=\"dataframe\">\n",
       "  <thead>\n",
       "    <tr style=\"text-align: right;\">\n",
       "      <th></th>\n",
       "      <th>Review</th>\n",
       "      <th>date</th>\n",
       "      <th>Location</th>\n",
       "      <th>Language</th>\n",
       "    </tr>\n",
       "  </thead>\n",
       "  <tbody>\n",
       "    <tr>\n",
       "      <th>0</th>\n",
       "      <td>[was, impressed, the, resort, great, staff, th...</td>\n",
       "      <td>2019-08-20</td>\n",
       "      <td>Sebastian</td>\n",
       "      <td>en</td>\n",
       "    </tr>\n",
       "    <tr>\n",
       "      <th>1</th>\n",
       "      <td>[rooms, nice, outside, needs, work, also, free...</td>\n",
       "      <td>2019-08-20</td>\n",
       "      <td>Los Angeles</td>\n",
       "      <td>en</td>\n",
       "    </tr>\n",
       "    <tr>\n",
       "      <th>2</th>\n",
       "      <td>[great, location, have, stayed, this, hotel, m...</td>\n",
       "      <td>2019-08-20</td>\n",
       "      <td>Georgia</td>\n",
       "      <td>en</td>\n",
       "    </tr>\n",
       "    <tr>\n",
       "      <th>3</th>\n",
       "      <td>[hotel, adequate, my, stay, strips, bathtub, u...</td>\n",
       "      <td>2019-08-20</td>\n",
       "      <td>NaN</td>\n",
       "      <td>en</td>\n",
       "    </tr>\n",
       "    <tr>\n",
       "      <th>4</th>\n",
       "      <td>[great, location, room, large, spacious, parki...</td>\n",
       "      <td>2019-08-19</td>\n",
       "      <td>Palm Harbor</td>\n",
       "      <td>en</td>\n",
       "    </tr>\n",
       "  </tbody>\n",
       "</table>\n",
       "</div>"
      ],
      "text/plain": [
       "                                              Review       date     Location  \\\n",
       "0  [was, impressed, the, resort, great, staff, th... 2019-08-20    Sebastian   \n",
       "1  [rooms, nice, outside, needs, work, also, free... 2019-08-20  Los Angeles   \n",
       "2  [great, location, have, stayed, this, hotel, m... 2019-08-20      Georgia   \n",
       "3  [hotel, adequate, my, stay, strips, bathtub, u... 2019-08-20          NaN   \n",
       "4  [great, location, room, large, spacious, parki... 2019-08-19  Palm Harbor   \n",
       "\n",
       "  Language  \n",
       "0       en  \n",
       "1       en  \n",
       "2       en  \n",
       "3       en  \n",
       "4       en  "
      ]
     },
     "execution_count": 173,
     "metadata": {},
     "output_type": "execute_result"
    }
   ],
   "source": [
    "data.head(5)"
   ]
  },
  {
   "cell_type": "code",
   "execution_count": 174,
   "metadata": {},
   "outputs": [],
   "source": [
    "positive_score=[]\n",
    "negative_score=[]\n",
    "polarity_score=[]\n",
    "for i in data['Review']:\n",
    "    pc=0\n",
    "    nc=0\n",
    "    for j in i:\n",
    "        if j in positive_words:\n",
    "            pc+=1\n",
    "        elif j in negative_words:\n",
    "            nc+=1\n",
    "    positive_score.append(pc)  \n",
    "    negative_score.append(nc)\n",
    "    polarity_score.append((pc-nc))"
   ]
  },
  {
   "cell_type": "code",
   "execution_count": 175,
   "metadata": {},
   "outputs": [],
   "source": [
    "data['positive_score']=positive_score\n",
    "data['negative_score']=negative_score\n",
    "data['polarity_score']=polarity_score"
   ]
  },
  {
   "cell_type": "code",
   "execution_count": 176,
   "metadata": {
    "scrolled": false
   },
   "outputs": [
    {
     "data": {
      "text/html": [
       "<div>\n",
       "<style scoped>\n",
       "    .dataframe tbody tr th:only-of-type {\n",
       "        vertical-align: middle;\n",
       "    }\n",
       "\n",
       "    .dataframe tbody tr th {\n",
       "        vertical-align: top;\n",
       "    }\n",
       "\n",
       "    .dataframe thead th {\n",
       "        text-align: right;\n",
       "    }\n",
       "</style>\n",
       "<table border=\"1\" class=\"dataframe\">\n",
       "  <thead>\n",
       "    <tr style=\"text-align: right;\">\n",
       "      <th></th>\n",
       "      <th>Review</th>\n",
       "      <th>date</th>\n",
       "      <th>Location</th>\n",
       "      <th>Language</th>\n",
       "      <th>positive_score</th>\n",
       "      <th>negative_score</th>\n",
       "      <th>polarity_score</th>\n",
       "    </tr>\n",
       "  </thead>\n",
       "  <tbody>\n",
       "    <tr>\n",
       "      <th>949</th>\n",
       "      <td>[ursprünglich, gutes, angebot, später, ernücht...</td>\n",
       "      <td>2019-05-17</td>\n",
       "      <td>NaN</td>\n",
       "      <td>de</td>\n",
       "      <td>1</td>\n",
       "      <td>15</td>\n",
       "      <td>-14</td>\n",
       "    </tr>\n",
       "    <tr>\n",
       "      <th>3766</th>\n",
       "      <td>[arrived, location, checked, my, room, receive...</td>\n",
       "      <td>2018-11-26</td>\n",
       "      <td>New York, NY</td>\n",
       "      <td>en</td>\n",
       "      <td>0</td>\n",
       "      <td>14</td>\n",
       "      <td>-14</td>\n",
       "    </tr>\n",
       "  </tbody>\n",
       "</table>\n",
       "</div>"
      ],
      "text/plain": [
       "                                                 Review       date  \\\n",
       "949   [ursprünglich, gutes, angebot, später, ernücht... 2019-05-17   \n",
       "3766  [arrived, location, checked, my, room, receive... 2018-11-26   \n",
       "\n",
       "          Location Language  positive_score  negative_score  polarity_score  \n",
       "949            NaN       de               1              15             -14  \n",
       "3766  New York, NY       en               0              14             -14  "
      ]
     },
     "execution_count": 176,
     "metadata": {},
     "output_type": "execute_result"
    }
   ],
   "source": [
    "data[data['polarity_score']==data['polarity_score'].min()]"
   ]
  },
  {
   "cell_type": "code",
   "execution_count": 177,
   "metadata": {},
   "outputs": [],
   "source": [
    "data.to_csv('final_data.csv')"
   ]
  },
  {
   "cell_type": "code",
   "execution_count": 178,
   "metadata": {},
   "outputs": [
    {
     "data": {
      "text/plain": [
       "23"
      ]
     },
     "execution_count": 178,
     "metadata": {},
     "output_type": "execute_result"
    }
   ],
   "source": [
    "data['Language'].nunique()"
   ]
  },
  {
   "cell_type": "markdown",
   "metadata": {},
   "source": [
    "### inference 1 :- we have 22 diffrent types of language reviews."
   ]
  },
  {
   "cell_type": "code",
   "execution_count": 179,
   "metadata": {
    "scrolled": true
   },
   "outputs": [
    {
     "data": {
      "text/plain": [
       "en         5861\n",
       "es          169\n",
       "de           83\n",
       "fr           75\n",
       "UnKnown      56\n",
       "it           37\n",
       "ja           37\n",
       "pt           32\n",
       "nl           25\n",
       "da           19\n",
       "no           10\n",
       "ko            9\n",
       "sv            8\n",
       "et            5\n",
       "af            4\n",
       "zh-cn         4\n",
       "fi            4\n",
       "ca            3\n",
       "pl            2\n",
       "ru            2\n",
       "zh-tw         1\n",
       "he            1\n",
       "ar            1\n",
       "Name: Language, dtype: int64"
      ]
     },
     "execution_count": 179,
     "metadata": {},
     "output_type": "execute_result"
    }
   ],
   "source": [
    "data['Language'].value_counts()"
   ]
  },
  {
   "cell_type": "markdown",
   "metadata": {},
   "source": [
    "### inference 2 :- 90.9 % reviews is in english language"
   ]
  },
  {
   "cell_type": "code",
   "execution_count": 185,
   "metadata": {},
   "outputs": [
    {
     "data": {
      "text/plain": [
       "90.89640198511167"
      ]
     },
     "execution_count": 185,
     "metadata": {},
     "output_type": "execute_result"
    }
   ],
   "source": [
    "((data['Language']=='en').sum()/data.__len__())*100"
   ]
  },
  {
   "cell_type": "code",
   "execution_count": 188,
   "metadata": {},
   "outputs": [],
   "source": [
    "m=data['polarity_score'].max()"
   ]
  },
  {
   "cell_type": "code",
   "execution_count": 197,
   "metadata": {},
   "outputs": [
    {
     "data": {
      "text/html": [
       "<div>\n",
       "<style scoped>\n",
       "    .dataframe tbody tr th:only-of-type {\n",
       "        vertical-align: middle;\n",
       "    }\n",
       "\n",
       "    .dataframe tbody tr th {\n",
       "        vertical-align: top;\n",
       "    }\n",
       "\n",
       "    .dataframe thead th {\n",
       "        text-align: right;\n",
       "    }\n",
       "</style>\n",
       "<table border=\"1\" class=\"dataframe\">\n",
       "  <thead>\n",
       "    <tr style=\"text-align: right;\">\n",
       "      <th></th>\n",
       "      <th>Review</th>\n",
       "      <th>date</th>\n",
       "      <th>Location</th>\n",
       "      <th>Language</th>\n",
       "      <th>positive_score</th>\n",
       "      <th>negative_score</th>\n",
       "      <th>polarity_score</th>\n",
       "    </tr>\n",
       "  </thead>\n",
       "  <tbody>\n",
       "    <tr>\n",
       "      <th>2660</th>\n",
       "      <td>[husband, pleased, our, stay, new, yorker, jan...</td>\n",
       "      <td>2019-01-28</td>\n",
       "      <td>Chicago,Il</td>\n",
       "      <td>en</td>\n",
       "      <td>26</td>\n",
       "      <td>4</td>\n",
       "      <td>22</td>\n",
       "    </tr>\n",
       "  </tbody>\n",
       "</table>\n",
       "</div>"
      ],
      "text/plain": [
       "                                                 Review       date  \\\n",
       "2660  [husband, pleased, our, stay, new, yorker, jan... 2019-01-28   \n",
       "\n",
       "        Location Language  positive_score  negative_score  polarity_score  \n",
       "2660  Chicago,Il       en              26               4              22  "
      ]
     },
     "execution_count": 197,
     "metadata": {},
     "output_type": "execute_result"
    }
   ],
   "source": [
    "data[data['polarity_score']==m]"
   ]
  },
  {
   "cell_type": "markdown",
   "metadata": {},
   "source": [
    "### Most positive review is from chicago on 28th january 2019"
   ]
  },
  {
   "cell_type": "code",
   "execution_count": 208,
   "metadata": {},
   "outputs": [],
   "source": [
    "data['date']=data['date'].astype(str)"
   ]
  },
  {
   "cell_type": "code",
   "execution_count": 219,
   "metadata": {},
   "outputs": [
    {
     "data": {
      "text/plain": [
       "2019    3856\n",
       "2018    2592\n",
       "Name: date, dtype: int64"
      ]
     },
     "execution_count": 219,
     "metadata": {},
     "output_type": "execute_result"
    }
   ],
   "source": [
    "data['date'].apply(lambda x:x.split('-')[0]).value_counts()"
   ]
  },
  {
   "cell_type": "code",
   "execution_count": 220,
   "metadata": {},
   "outputs": [],
   "source": [
    "n=data['polarity_score'].min()"
   ]
  },
  {
   "cell_type": "code",
   "execution_count": 221,
   "metadata": {},
   "outputs": [
    {
     "data": {
      "text/html": [
       "<div>\n",
       "<style scoped>\n",
       "    .dataframe tbody tr th:only-of-type {\n",
       "        vertical-align: middle;\n",
       "    }\n",
       "\n",
       "    .dataframe tbody tr th {\n",
       "        vertical-align: top;\n",
       "    }\n",
       "\n",
       "    .dataframe thead th {\n",
       "        text-align: right;\n",
       "    }\n",
       "</style>\n",
       "<table border=\"1\" class=\"dataframe\">\n",
       "  <thead>\n",
       "    <tr style=\"text-align: right;\">\n",
       "      <th></th>\n",
       "      <th>Review</th>\n",
       "      <th>date</th>\n",
       "      <th>Location</th>\n",
       "      <th>Language</th>\n",
       "      <th>positive_score</th>\n",
       "      <th>negative_score</th>\n",
       "      <th>polarity_score</th>\n",
       "    </tr>\n",
       "  </thead>\n",
       "  <tbody>\n",
       "    <tr>\n",
       "      <th>949</th>\n",
       "      <td>[ursprünglich, gutes, angebot, später, ernücht...</td>\n",
       "      <td>2019-05-17</td>\n",
       "      <td>NaN</td>\n",
       "      <td>de</td>\n",
       "      <td>1</td>\n",
       "      <td>15</td>\n",
       "      <td>-14</td>\n",
       "    </tr>\n",
       "    <tr>\n",
       "      <th>3766</th>\n",
       "      <td>[arrived, location, checked, my, room, receive...</td>\n",
       "      <td>2018-11-26</td>\n",
       "      <td>New York, NY</td>\n",
       "      <td>en</td>\n",
       "      <td>0</td>\n",
       "      <td>14</td>\n",
       "      <td>-14</td>\n",
       "    </tr>\n",
       "  </tbody>\n",
       "</table>\n",
       "</div>"
      ],
      "text/plain": [
       "                                                 Review        date  \\\n",
       "949   [ursprünglich, gutes, angebot, später, ernücht...  2019-05-17   \n",
       "3766  [arrived, location, checked, my, room, receive...  2018-11-26   \n",
       "\n",
       "          Location Language  positive_score  negative_score  polarity_score  \n",
       "949            NaN       de               1              15             -14  \n",
       "3766  New York, NY       en               0              14             -14  "
      ]
     },
     "execution_count": 221,
     "metadata": {},
     "output_type": "execute_result"
    }
   ],
   "source": [
    "data[data['polarity_score']==n]"
   ]
  },
  {
   "cell_type": "markdown",
   "metadata": {},
   "source": [
    "#### There are two most negative reviews one is in english language from NewYORK\n"
   ]
  },
  {
   "cell_type": "code",
   "execution_count": null,
   "metadata": {},
   "outputs": [],
   "source": []
  }
 ],
 "metadata": {
  "kernelspec": {
   "display_name": "Python 3",
   "language": "python",
   "name": "python3"
  },
  "language_info": {
   "codemirror_mode": {
    "name": "ipython",
    "version": 3
   },
   "file_extension": ".py",
   "mimetype": "text/x-python",
   "name": "python",
   "nbconvert_exporter": "python",
   "pygments_lexer": "ipython3",
   "version": "3.8.5"
  }
 },
 "nbformat": 4,
 "nbformat_minor": 4
}
