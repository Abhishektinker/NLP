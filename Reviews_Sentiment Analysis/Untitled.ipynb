{
 "cells": [
  {
   "cell_type": "code",
   "execution_count": 1,
   "metadata": {},
   "outputs": [],
   "source": [
    "import pandas as pd\n",
    "import numpy as np\n",
    "import matplotlib.pyplot as plt\n",
    "import re\n",
    "from datetime import datetime\n",
    "import requests\n",
    "import nltk\n",
    "from textblob import TextBlob as tb\n",
    "from langdetect import detect "
   ]
  },
  {
   "cell_type": "code",
   "execution_count": 150,
   "metadata": {},
   "outputs": [],
   "source": [
    "data=pd.read_excel(\"Data Analyst - Test Data.xlsx\")"
   ]
  },
  {
   "cell_type": "code",
   "execution_count": 151,
   "metadata": {},
   "outputs": [
    {
     "name": "stdout",
     "output_type": "stream",
     "text": [
      "<class 'pandas.core.frame.DataFrame'>\n",
      "RangeIndex: 6448 entries, 0 to 6447\n",
      "Data columns (total 3 columns):\n",
      " #   Column    Non-Null Count  Dtype         \n",
      "---  ------    --------------  -----         \n",
      " 0   Review    6393 non-null   object        \n",
      " 1   date      6448 non-null   datetime64[ns]\n",
      " 2   Location  1711 non-null   object        \n",
      "dtypes: datetime64[ns](1), object(2)\n",
      "memory usage: 100.8+ KB\n"
     ]
    }
   ],
   "source": [
    "data.info()"
   ]
  },
  {
   "cell_type": "code",
   "execution_count": 152,
   "metadata": {},
   "outputs": [
    {
     "data": {
      "text/plain": [
       "4737"
      ]
     },
     "execution_count": 152,
     "metadata": {},
     "output_type": "execute_result"
    }
   ],
   "source": [
    "data['Location'].isna().sum()"
   ]
  },
  {
   "cell_type": "code",
   "execution_count": 153,
   "metadata": {
    "scrolled": true
   },
   "outputs": [
    {
     "data": {
      "text/html": [
       "<div>\n",
       "<style scoped>\n",
       "    .dataframe tbody tr th:only-of-type {\n",
       "        vertical-align: middle;\n",
       "    }\n",
       "\n",
       "    .dataframe tbody tr th {\n",
       "        vertical-align: top;\n",
       "    }\n",
       "\n",
       "    .dataframe thead th {\n",
       "        text-align: right;\n",
       "    }\n",
       "</style>\n",
       "<table border=\"1\" class=\"dataframe\">\n",
       "  <thead>\n",
       "    <tr style=\"text-align: right;\">\n",
       "      <th></th>\n",
       "      <th>Review</th>\n",
       "      <th>date</th>\n",
       "      <th>Location</th>\n",
       "    </tr>\n",
       "  </thead>\n",
       "  <tbody>\n",
       "    <tr>\n",
       "      <th>0</th>\n",
       "      <td>I was very impressed with the resort.\\n Great ...</td>\n",
       "      <td>2019-08-20</td>\n",
       "      <td>Sebastian</td>\n",
       "    </tr>\n",
       "    <tr>\n",
       "      <th>1</th>\n",
       "      <td>The rooms were nice the outside needs work als...</td>\n",
       "      <td>2019-08-20</td>\n",
       "      <td>Los Angeles</td>\n",
       "    </tr>\n",
       "    <tr>\n",
       "      <th>2</th>\n",
       "      <td>Great location! I have stayed at this hotel on...</td>\n",
       "      <td>2019-08-20</td>\n",
       "      <td>Georgia</td>\n",
       "    </tr>\n",
       "    <tr>\n",
       "      <th>3</th>\n",
       "      <td>The hotel was adequate for my stay. The strips...</td>\n",
       "      <td>2019-08-20</td>\n",
       "      <td>NaN</td>\n",
       "    </tr>\n",
       "    <tr>\n",
       "      <th>4</th>\n",
       "      <td>Great location, room was large and spacious. P...</td>\n",
       "      <td>2019-08-19</td>\n",
       "      <td>Palm Harbor</td>\n",
       "    </tr>\n",
       "  </tbody>\n",
       "</table>\n",
       "</div>"
      ],
      "text/plain": [
       "                                              Review       date     Location\n",
       "0  I was very impressed with the resort.\\n Great ... 2019-08-20    Sebastian\n",
       "1  The rooms were nice the outside needs work als... 2019-08-20  Los Angeles\n",
       "2  Great location! I have stayed at this hotel on... 2019-08-20      Georgia\n",
       "3  The hotel was adequate for my stay. The strips... 2019-08-20          NaN\n",
       "4  Great location, room was large and spacious. P... 2019-08-19  Palm Harbor"
      ]
     },
     "execution_count": 153,
     "metadata": {},
     "output_type": "execute_result"
    }
   ],
   "source": [
    "data.head(5)"
   ]
  },
  {
   "cell_type": "code",
   "execution_count": 155,
   "metadata": {},
   "outputs": [],
   "source": [
    "data['Review'].fillna(\" \",inplace=True)"
   ]
  },
  {
   "cell_type": "code",
   "execution_count": 156,
   "metadata": {
    "scrolled": true
   },
   "outputs": [],
   "source": [
    "data['Review']=data['Review'].apply(lambda x:x.lower())"
   ]
  },
  {
   "cell_type": "code",
   "execution_count": 158,
   "metadata": {},
   "outputs": [],
   "source": [
    "def lang(x):\n",
    "    try:\n",
    "        return detect(x)\n",
    "    except:\n",
    "        return \"UnKnown\""
   ]
  },
  {
   "cell_type": "code",
   "execution_count": 160,
   "metadata": {
    "scrolled": false
   },
   "outputs": [],
   "source": [
    "data['Language']=data['Review'].apply(lambda x: lang(x))"
   ]
  },
  {
   "cell_type": "code",
   "execution_count": 162,
   "metadata": {},
   "outputs": [],
   "source": [
    "data['Review']=data['Review'].apply(lambda x:re.findall(\"\\w+\",x))"
   ]
  },
  {
   "cell_type": "code",
   "execution_count": 163,
   "metadata": {},
   "outputs": [],
   "source": [
    "resp1=requests.get(\"https://ptrckprry.com/course/ssd/data/positive-words.txt\")"
   ]
  },
  {
   "cell_type": "code",
   "execution_count": 164,
   "metadata": {},
   "outputs": [],
   "source": [
    "raw_data1=resp1.content[1535:]"
   ]
  },
  {
   "cell_type": "code",
   "execution_count": 165,
   "metadata": {},
   "outputs": [],
   "source": [
    "positive_words=raw_data1.decode().split('\\n')[3:]"
   ]
  },
  {
   "cell_type": "code",
   "execution_count": 166,
   "metadata": {},
   "outputs": [],
   "source": [
    "resp2=requests.get(\"https://ptrckprry.com/course/ssd/data/negative-words.txt\")"
   ]
  },
  {
   "cell_type": "code",
   "execution_count": 167,
   "metadata": {},
   "outputs": [],
   "source": [
    "raw_data2=resp2.content[1550:]"
   ]
  },
  {
   "cell_type": "code",
   "execution_count": 168,
   "metadata": {},
   "outputs": [],
   "source": [
    "negative_words=raw_data2.decode(encoding='latin-1').split(\"\\n\")[1:]"
   ]
  },
  {
   "cell_type": "code",
   "execution_count": 169,
   "metadata": {},
   "outputs": [],
   "source": [
    "from nltk.corpus import stopwords"
   ]
  },
  {
   "cell_type": "code",
   "execution_count": 170,
   "metadata": {},
   "outputs": [],
   "source": [
    "stopwords=stopwords.words(\"english\")"
   ]
  },
  {
   "cell_type": "code",
   "execution_count": 171,
   "metadata": {},
   "outputs": [],
   "source": [
    "def remove(x):\n",
    "    for i in x:\n",
    "        if i.strip() in stopwords:\n",
    "            x.remove(i)\n",
    "    return x        "
   ]
  },
  {
   "cell_type": "code",
   "execution_count": 172,
   "metadata": {},
   "outputs": [],
   "source": [
    "data['Review']=data['Review'].apply(lambda x: remove(x))"
   ]
  },
  {
   "cell_type": "code",
   "execution_count": 173,
   "metadata": {
    "scrolled": false
   },
   "outputs": [
    {
     "data": {
      "text/html": [
       "<div>\n",
       "<style scoped>\n",
       "    .dataframe tbody tr th:only-of-type {\n",
       "        vertical-align: middle;\n",
       "    }\n",
       "\n",
       "    .dataframe tbody tr th {\n",
       "        vertical-align: top;\n",
       "    }\n",
       "\n",
       "    .dataframe thead th {\n",
       "        text-align: right;\n",
       "    }\n",
       "</style>\n",
       "<table border=\"1\" class=\"dataframe\">\n",
       "  <thead>\n",
       "    <tr style=\"text-align: right;\">\n",
       "      <th></th>\n",
       "      <th>Review</th>\n",
       "      <th>date</th>\n",
       "      <th>Location</th>\n",
       "      <th>Language</th>\n",
       "    </tr>\n",
       "  </thead>\n",
       "  <tbody>\n",
       "    <tr>\n",
       "      <th>0</th>\n",
       "      <td>[was, impressed, the, resort, great, staff, th...</td>\n",
       "      <td>2019-08-20</td>\n",
       "      <td>Sebastian</td>\n",
       "      <td>en</td>\n",
       "    </tr>\n",
       "    <tr>\n",
       "      <th>1</th>\n",
       "      <td>[rooms, nice, outside, needs, work, also, free...</td>\n",
       "      <td>2019-08-20</td>\n",
       "      <td>Los Angeles</td>\n",
       "      <td>en</td>\n",
       "    </tr>\n",
       "    <tr>\n",
       "      <th>2</th>\n",
       "      <td>[great, location, have, stayed, this, hotel, m...</td>\n",
       "      <td>2019-08-20</td>\n",
       "      <td>Georgia</td>\n",
       "      <td>en</td>\n",
       "    </tr>\n",
       "    <tr>\n",
       "      <th>3</th>\n",
       "      <td>[hotel, adequate, my, stay, strips, bathtub, u...</td>\n",
       "      <td>2019-08-20</td>\n",
       "      <td>NaN</td>\n",
       "      <td>en</td>\n",
       "    </tr>\n",
       "    <tr>\n",
       "      <th>4</th>\n",
       "      <td>[great, location, room, large, spacious, parki...</td>\n",
       "      <td>2019-08-19</td>\n",
       "      <td>Palm Harbor</td>\n",
       "      <td>en</td>\n",
       "    </tr>\n",
       "  </tbody>\n",
       "</table>\n",
       "</div>"
      ],
      "text/plain": [
       "                                              Review       date     Location  \\\n",
       "0  [was, impressed, the, resort, great, staff, th... 2019-08-20    Sebastian   \n",
       "1  [rooms, nice, outside, needs, work, also, free... 2019-08-20  Los Angeles   \n",
       "2  [great, location, have, stayed, this, hotel, m... 2019-08-20      Georgia   \n",
       "3  [hotel, adequate, my, stay, strips, bathtub, u... 2019-08-20          NaN   \n",
       "4  [great, location, room, large, spacious, parki... 2019-08-19  Palm Harbor   \n",
       "\n",
       "  Language  \n",
       "0       en  \n",
       "1       en  \n",
       "2       en  \n",
       "3       en  \n",
       "4       en  "
      ]
     },
     "execution_count": 173,
     "metadata": {},
     "output_type": "execute_result"
    }
   ],
   "source": [
    "data.head(5)"
   ]
  },
  {
   "cell_type": "code",
   "execution_count": 174,
   "metadata": {},
   "outputs": [],
   "source": [
    "positive_score=[]\n",
    "negative_score=[]\n",
    "polarity_score=[]\n",
    "for i in data['Review']:\n",
    "    pc=0\n",
    "    nc=0\n",
    "    for j in i:\n",
    "        if j in positive_words:\n",
    "            pc+=1\n",
    "        elif j in negative_words:\n",
    "            nc+=1\n",
    "    positive_score.append(pc)  \n",
    "    negative_score.append(nc)\n",
    "    polarity_score.append((pc-nc))"
   ]
  },
  {
   "cell_type": "code",
   "execution_count": 175,
   "metadata": {},
   "outputs": [],
   "source": [
    "data['positive_score']=positive_score\n",
    "data['negative_score']=negative_score\n",
    "data['polarity_score']=polarity_score"
   ]
  },
  {
   "cell_type": "code",
   "execution_count": 176,
   "metadata": {
    "scrolled": false
   },
   "outputs": [
    {
     "data": {
      "text/html": [
       "<div>\n",
       "<style scoped>\n",
       "    .dataframe tbody tr th:only-of-type {\n",
       "        vertical-align: middle;\n",
       "    }\n",
       "\n",
       "    .dataframe tbody tr th {\n",
       "        vertical-align: top;\n",
       "    }\n",
       "\n",
       "    .dataframe thead th {\n",
       "        text-align: right;\n",
       "    }\n",
       "</style>\n",
       "<table border=\"1\" class=\"dataframe\">\n",
       "  <thead>\n",
       "    <tr style=\"text-align: right;\">\n",
       "      <th></th>\n",
       "      <th>Review</th>\n",
       "      <th>date</th>\n",
       "      <th>Location</th>\n",
       "      <th>Language</th>\n",
       "      <th>positive_score</th>\n",
       "      <th>negative_score</th>\n",
       "      <th>polarity_score</th>\n",
       "    </tr>\n",
       "  </thead>\n",
       "  <tbody>\n",
       "    <tr>\n",
       "      <th>949</th>\n",
       "      <td>[ursprünglich, gutes, angebot, später, ernücht...</td>\n",
       "      <td>2019-05-17</td>\n",
       "      <td>NaN</td>\n",
       "      <td>de</td>\n",
       "      <td>1</td>\n",
       "      <td>15</td>\n",
       "      <td>-14</td>\n",
       "    </tr>\n",
       "    <tr>\n",
       "      <th>3766</th>\n",
       "      <td>[arrived, location, checked, my, room, receive...</td>\n",
       "      <td>2018-11-26</td>\n",
       "      <td>New York, NY</td>\n",
       "      <td>en</td>\n",
       "      <td>0</td>\n",
       "      <td>14</td>\n",
       "      <td>-14</td>\n",
       "    </tr>\n",
       "  </tbody>\n",
       "</table>\n",
       "</div>"
      ],
      "text/plain": [
       "                                                 Review       date  \\\n",
       "949   [ursprünglich, gutes, angebot, später, ernücht... 2019-05-17   \n",
       "3766  [arrived, location, checked, my, room, receive... 2018-11-26   \n",
       "\n",
       "          Location Language  positive_score  negative_score  polarity_score  \n",
       "949            NaN       de               1              15             -14  \n",
       "3766  New York, NY       en               0              14             -14  "
      ]
     },
     "execution_count": 176,
     "metadata": {},
     "output_type": "execute_result"
    }
   ],
   "source": [
    "data[data['polarity_score']==data['polarity_score'].min()]"
   ]
  },
  {
   "cell_type": "code",
   "execution_count": 177,
   "metadata": {},
   "outputs": [],
   "source": [
    "data.to_csv('final_data.csv')"
   ]
  },
  {
   "cell_type": "code",
   "execution_count": 13,
   "metadata": {},
   "outputs": [],
   "source": [
    "data=pd.read_csv('final_data.csv',index_col=0)"
   ]
  },
  {
   "cell_type": "code",
   "execution_count": null,
   "metadata": {},
   "outputs": [],
   "source": []
  },
  {
   "cell_type": "code",
   "execution_count": 14,
   "metadata": {},
   "outputs": [
    {
     "data": {
      "text/plain": [
       "23"
      ]
     },
     "execution_count": 14,
     "metadata": {},
     "output_type": "execute_result"
    }
   ],
   "source": [
    "data['Language'].nunique()"
   ]
  },
  {
   "cell_type": "markdown",
   "metadata": {},
   "source": [
    "### inference 1 :- we have 22 diffrent types of language reviews."
   ]
  },
  {
   "cell_type": "code",
   "execution_count": 15,
   "metadata": {
    "scrolled": true
   },
   "outputs": [
    {
     "data": {
      "text/plain": [
       "en         5861\n",
       "es          169\n",
       "de           83\n",
       "fr           75\n",
       "UnKnown      56\n",
       "it           37\n",
       "ja           37\n",
       "pt           32\n",
       "nl           25\n",
       "da           19\n",
       "no           10\n",
       "ko            9\n",
       "sv            8\n",
       "et            5\n",
       "fi            4\n",
       "zh-cn         4\n",
       "af            4\n",
       "ca            3\n",
       "pl            2\n",
       "ru            2\n",
       "ar            1\n",
       "zh-tw         1\n",
       "he            1\n",
       "Name: Language, dtype: int64"
      ]
     },
     "execution_count": 15,
     "metadata": {},
     "output_type": "execute_result"
    }
   ],
   "source": [
    "data['Language'].value_counts()"
   ]
  },
  {
   "cell_type": "markdown",
   "metadata": {},
   "source": [
    "### inference 2 :- 90.9 % reviews is in english language"
   ]
  },
  {
   "cell_type": "code",
   "execution_count": 16,
   "metadata": {},
   "outputs": [
    {
     "data": {
      "text/plain": [
       "90.89640198511167"
      ]
     },
     "execution_count": 16,
     "metadata": {},
     "output_type": "execute_result"
    }
   ],
   "source": [
    "((data['Language']=='en').sum()/data.__len__())*100"
   ]
  },
  {
   "cell_type": "code",
   "execution_count": 17,
   "metadata": {},
   "outputs": [],
   "source": [
    "m=data['polarity_score'].max()"
   ]
  },
  {
   "cell_type": "code",
   "execution_count": 18,
   "metadata": {},
   "outputs": [
    {
     "data": {
      "text/html": [
       "<div>\n",
       "<style scoped>\n",
       "    .dataframe tbody tr th:only-of-type {\n",
       "        vertical-align: middle;\n",
       "    }\n",
       "\n",
       "    .dataframe tbody tr th {\n",
       "        vertical-align: top;\n",
       "    }\n",
       "\n",
       "    .dataframe thead th {\n",
       "        text-align: right;\n",
       "    }\n",
       "</style>\n",
       "<table border=\"1\" class=\"dataframe\">\n",
       "  <thead>\n",
       "    <tr style=\"text-align: right;\">\n",
       "      <th></th>\n",
       "      <th>Review</th>\n",
       "      <th>date</th>\n",
       "      <th>Location</th>\n",
       "      <th>Language</th>\n",
       "      <th>positive_score</th>\n",
       "      <th>negative_score</th>\n",
       "      <th>polarity_score</th>\n",
       "    </tr>\n",
       "  </thead>\n",
       "  <tbody>\n",
       "    <tr>\n",
       "      <th>2660</th>\n",
       "      <td>['husband', 'pleased', 'our', 'stay', 'new', '...</td>\n",
       "      <td>2019-01-28</td>\n",
       "      <td>Chicago,Il</td>\n",
       "      <td>en</td>\n",
       "      <td>26</td>\n",
       "      <td>4</td>\n",
       "      <td>22</td>\n",
       "    </tr>\n",
       "  </tbody>\n",
       "</table>\n",
       "</div>"
      ],
      "text/plain": [
       "                                                 Review        date  \\\n",
       "2660  ['husband', 'pleased', 'our', 'stay', 'new', '...  2019-01-28   \n",
       "\n",
       "        Location Language  positive_score  negative_score  polarity_score  \n",
       "2660  Chicago,Il       en              26               4              22  "
      ]
     },
     "execution_count": 18,
     "metadata": {},
     "output_type": "execute_result"
    }
   ],
   "source": [
    "data[data['polarity_score']==m]"
   ]
  },
  {
   "cell_type": "markdown",
   "metadata": {},
   "source": [
    "### Most positive review is from chicago on 28th january 2019"
   ]
  },
  {
   "cell_type": "code",
   "execution_count": 19,
   "metadata": {},
   "outputs": [],
   "source": [
    "data['date']=data['date'].astype(str)"
   ]
  },
  {
   "cell_type": "code",
   "execution_count": 20,
   "metadata": {},
   "outputs": [
    {
     "data": {
      "text/plain": [
       "2019    3856\n",
       "2018    2592\n",
       "Name: date, dtype: int64"
      ]
     },
     "execution_count": 20,
     "metadata": {},
     "output_type": "execute_result"
    }
   ],
   "source": [
    "data['date'].apply(lambda x:x.split('-')[0]).value_counts()"
   ]
  },
  {
   "cell_type": "code",
   "execution_count": 21,
   "metadata": {},
   "outputs": [],
   "source": [
    "n=data['polarity_score'].min()"
   ]
  },
  {
   "cell_type": "code",
   "execution_count": 22,
   "metadata": {},
   "outputs": [
    {
     "data": {
      "text/html": [
       "<div>\n",
       "<style scoped>\n",
       "    .dataframe tbody tr th:only-of-type {\n",
       "        vertical-align: middle;\n",
       "    }\n",
       "\n",
       "    .dataframe tbody tr th {\n",
       "        vertical-align: top;\n",
       "    }\n",
       "\n",
       "    .dataframe thead th {\n",
       "        text-align: right;\n",
       "    }\n",
       "</style>\n",
       "<table border=\"1\" class=\"dataframe\">\n",
       "  <thead>\n",
       "    <tr style=\"text-align: right;\">\n",
       "      <th></th>\n",
       "      <th>Review</th>\n",
       "      <th>date</th>\n",
       "      <th>Location</th>\n",
       "      <th>Language</th>\n",
       "      <th>positive_score</th>\n",
       "      <th>negative_score</th>\n",
       "      <th>polarity_score</th>\n",
       "    </tr>\n",
       "  </thead>\n",
       "  <tbody>\n",
       "    <tr>\n",
       "      <th>949</th>\n",
       "      <td>['ursprünglich', 'gutes', 'angebot', 'später',...</td>\n",
       "      <td>2019-05-17</td>\n",
       "      <td>NaN</td>\n",
       "      <td>de</td>\n",
       "      <td>1</td>\n",
       "      <td>15</td>\n",
       "      <td>-14</td>\n",
       "    </tr>\n",
       "    <tr>\n",
       "      <th>3766</th>\n",
       "      <td>['arrived', 'location', 'checked', 'my', 'room...</td>\n",
       "      <td>2018-11-26</td>\n",
       "      <td>New York, NY</td>\n",
       "      <td>en</td>\n",
       "      <td>0</td>\n",
       "      <td>14</td>\n",
       "      <td>-14</td>\n",
       "    </tr>\n",
       "  </tbody>\n",
       "</table>\n",
       "</div>"
      ],
      "text/plain": [
       "                                                 Review        date  \\\n",
       "949   ['ursprünglich', 'gutes', 'angebot', 'später',...  2019-05-17   \n",
       "3766  ['arrived', 'location', 'checked', 'my', 'room...  2018-11-26   \n",
       "\n",
       "          Location Language  positive_score  negative_score  polarity_score  \n",
       "949            NaN       de               1              15             -14  \n",
       "3766  New York, NY       en               0              14             -14  "
      ]
     },
     "execution_count": 22,
     "metadata": {},
     "output_type": "execute_result"
    }
   ],
   "source": [
    "data[data['polarity_score']==n]"
   ]
  },
  {
   "cell_type": "markdown",
   "metadata": {},
   "source": [
    "#### There are two most negative reviews one is in english language from NewYORK\n"
   ]
  },
  {
   "cell_type": "code",
   "execution_count": 28,
   "metadata": {},
   "outputs": [],
   "source": [
    "en_data=data[data['Language']=='en']"
   ]
  },
  {
   "cell_type": "code",
   "execution_count": 34,
   "metadata": {},
   "outputs": [
    {
     "name": "stderr",
     "output_type": "stream",
     "text": [
      "<ipython-input-34-a801e7c88532>:1: SettingWithCopyWarning: \n",
      "A value is trying to be set on a copy of a slice from a DataFrame.\n",
      "Try using .loc[row_indexer,col_indexer] = value instead\n",
      "\n",
      "See the caveats in the documentation: https://pandas.pydata.org/pandas-docs/stable/user_guide/indexing.html#returning-a-view-versus-a-copy\n",
      "  en_data['Month']=en_data['date'].apply(lambda x:x.split('-')[1].strip())\n"
     ]
    }
   ],
   "source": [
    "en_data['Month']=en_data['date'].apply(lambda x:x.split('-')[1].strip())"
   ]
  },
  {
   "cell_type": "code",
   "execution_count": 39,
   "metadata": {},
   "outputs": [
    {
     "name": "stderr",
     "output_type": "stream",
     "text": [
      "<ipython-input-39-12250379c8ff>:1: SettingWithCopyWarning: \n",
      "A value is trying to be set on a copy of a slice from a DataFrame.\n",
      "Try using .loc[row_indexer,col_indexer] = value instead\n",
      "\n",
      "See the caveats in the documentation: https://pandas.pydata.org/pandas-docs/stable/user_guide/indexing.html#returning-a-view-versus-a-copy\n",
      "  en_data['year']=en_data['date'].apply(lambda x:x.split('-')[0].strip())\n"
     ]
    }
   ],
   "source": [
    "en_data['year']=en_data['date'].apply(lambda x:x.split('-')[0].strip())"
   ]
  },
  {
   "cell_type": "code",
   "execution_count": 51,
   "metadata": {},
   "outputs": [
    {
     "data": {
      "text/plain": [
       "year  Month\n",
       "2018  08       396\n",
       "      09       430\n",
       "      10       469\n",
       "      11       461\n",
       "      12       566\n",
       "2019  01       454\n",
       "      02       390\n",
       "      03       557\n",
       "      04       537\n",
       "      05       471\n",
       "      06       338\n",
       "      07       524\n",
       "      08       268\n",
       "Name: Review, dtype: int64"
      ]
     },
     "execution_count": 51,
     "metadata": {},
     "output_type": "execute_result"
    }
   ],
   "source": [
    "en_data.groupby(['year','Month'])['Review'].count()"
   ]
  },
  {
   "cell_type": "markdown",
   "metadata": {},
   "source": [
    "#### Highest  No.  of reviews is in the december month. "
   ]
  },
  {
   "cell_type": "code",
   "execution_count": 53,
   "metadata": {},
   "outputs": [
    {
     "data": {
      "text/html": [
       "<div>\n",
       "<style scoped>\n",
       "    .dataframe tbody tr th:only-of-type {\n",
       "        vertical-align: middle;\n",
       "    }\n",
       "\n",
       "    .dataframe tbody tr th {\n",
       "        vertical-align: top;\n",
       "    }\n",
       "\n",
       "    .dataframe thead th {\n",
       "        text-align: right;\n",
       "    }\n",
       "</style>\n",
       "<table border=\"1\" class=\"dataframe\">\n",
       "  <thead>\n",
       "    <tr style=\"text-align: right;\">\n",
       "      <th></th>\n",
       "      <th>Review</th>\n",
       "      <th>date</th>\n",
       "      <th>Location</th>\n",
       "      <th>Language</th>\n",
       "      <th>positive_score</th>\n",
       "      <th>negative_score</th>\n",
       "      <th>polarity_score</th>\n",
       "      <th>Month</th>\n",
       "      <th>year</th>\n",
       "    </tr>\n",
       "  </thead>\n",
       "  <tbody>\n",
       "    <tr>\n",
       "      <th>0</th>\n",
       "      <td>['was', 'impressed', 'the', 'resort', 'great',...</td>\n",
       "      <td>2019-08-20</td>\n",
       "      <td>Sebastian</td>\n",
       "      <td>en</td>\n",
       "      <td>5</td>\n",
       "      <td>0</td>\n",
       "      <td>5</td>\n",
       "      <td>08</td>\n",
       "      <td>2019</td>\n",
       "    </tr>\n",
       "    <tr>\n",
       "      <th>1</th>\n",
       "      <td>['rooms', 'nice', 'outside', 'needs', 'work', ...</td>\n",
       "      <td>2019-08-20</td>\n",
       "      <td>Los Angeles</td>\n",
       "      <td>en</td>\n",
       "      <td>4</td>\n",
       "      <td>0</td>\n",
       "      <td>4</td>\n",
       "      <td>08</td>\n",
       "      <td>2019</td>\n",
       "    </tr>\n",
       "    <tr>\n",
       "      <th>2</th>\n",
       "      <td>['great', 'location', 'have', 'stayed', 'this'...</td>\n",
       "      <td>2019-08-20</td>\n",
       "      <td>Georgia</td>\n",
       "      <td>en</td>\n",
       "      <td>1</td>\n",
       "      <td>0</td>\n",
       "      <td>1</td>\n",
       "      <td>08</td>\n",
       "      <td>2019</td>\n",
       "    </tr>\n",
       "    <tr>\n",
       "      <th>3</th>\n",
       "      <td>['hotel', 'adequate', 'my', 'stay', 'strips', ...</td>\n",
       "      <td>2019-08-20</td>\n",
       "      <td>NaN</td>\n",
       "      <td>en</td>\n",
       "      <td>3</td>\n",
       "      <td>4</td>\n",
       "      <td>-1</td>\n",
       "      <td>08</td>\n",
       "      <td>2019</td>\n",
       "    </tr>\n",
       "    <tr>\n",
       "      <th>4</th>\n",
       "      <td>['great', 'location', 'room', 'large', 'spacio...</td>\n",
       "      <td>2019-08-19</td>\n",
       "      <td>Palm Harbor</td>\n",
       "      <td>en</td>\n",
       "      <td>5</td>\n",
       "      <td>0</td>\n",
       "      <td>5</td>\n",
       "      <td>08</td>\n",
       "      <td>2019</td>\n",
       "    </tr>\n",
       "    <tr>\n",
       "      <th>...</th>\n",
       "      <td>...</td>\n",
       "      <td>...</td>\n",
       "      <td>...</td>\n",
       "      <td>...</td>\n",
       "      <td>...</td>\n",
       "      <td>...</td>\n",
       "      <td>...</td>\n",
       "      <td>...</td>\n",
       "      <td>...</td>\n",
       "    </tr>\n",
       "    <tr>\n",
       "      <th>6443</th>\n",
       "      <td>['staff', 'friendly', 'frank', 'chef', 'buffet...</td>\n",
       "      <td>2019-07-12</td>\n",
       "      <td>United States of America</td>\n",
       "      <td>en</td>\n",
       "      <td>7</td>\n",
       "      <td>1</td>\n",
       "      <td>6</td>\n",
       "      <td>07</td>\n",
       "      <td>2019</td>\n",
       "    </tr>\n",
       "    <tr>\n",
       "      <th>6444</th>\n",
       "      <td>['internet', 'barely', 'worked', 'didn', 'work']</td>\n",
       "      <td>2019-07-12</td>\n",
       "      <td>United States of America</td>\n",
       "      <td>en</td>\n",
       "      <td>2</td>\n",
       "      <td>0</td>\n",
       "      <td>2</td>\n",
       "      <td>07</td>\n",
       "      <td>2019</td>\n",
       "    </tr>\n",
       "    <tr>\n",
       "      <th>6445</th>\n",
       "      <td>['location', 'great', 'bed', 'the', 'uncomfort...</td>\n",
       "      <td>2019-07-10</td>\n",
       "      <td>United States of America</td>\n",
       "      <td>en</td>\n",
       "      <td>1</td>\n",
       "      <td>1</td>\n",
       "      <td>0</td>\n",
       "      <td>07</td>\n",
       "      <td>2019</td>\n",
       "    </tr>\n",
       "    <tr>\n",
       "      <th>6446</th>\n",
       "      <td>['were', 'early', 'check', 'and', 'staff', 've...</td>\n",
       "      <td>2019-07-10</td>\n",
       "      <td>United States of America</td>\n",
       "      <td>en</td>\n",
       "      <td>0</td>\n",
       "      <td>0</td>\n",
       "      <td>0</td>\n",
       "      <td>07</td>\n",
       "      <td>2019</td>\n",
       "    </tr>\n",
       "    <tr>\n",
       "      <th>6447</th>\n",
       "      <td>['staff', 'free', 'coffee', 'location', 'activ...</td>\n",
       "      <td>2019-07-10</td>\n",
       "      <td>United States of America</td>\n",
       "      <td>en</td>\n",
       "      <td>2</td>\n",
       "      <td>0</td>\n",
       "      <td>2</td>\n",
       "      <td>07</td>\n",
       "      <td>2019</td>\n",
       "    </tr>\n",
       "  </tbody>\n",
       "</table>\n",
       "<p>5861 rows × 9 columns</p>\n",
       "</div>"
      ],
      "text/plain": [
       "                                                 Review        date  \\\n",
       "0     ['was', 'impressed', 'the', 'resort', 'great',...  2019-08-20   \n",
       "1     ['rooms', 'nice', 'outside', 'needs', 'work', ...  2019-08-20   \n",
       "2     ['great', 'location', 'have', 'stayed', 'this'...  2019-08-20   \n",
       "3     ['hotel', 'adequate', 'my', 'stay', 'strips', ...  2019-08-20   \n",
       "4     ['great', 'location', 'room', 'large', 'spacio...  2019-08-19   \n",
       "...                                                 ...         ...   \n",
       "6443  ['staff', 'friendly', 'frank', 'chef', 'buffet...  2019-07-12   \n",
       "6444   ['internet', 'barely', 'worked', 'didn', 'work']  2019-07-12   \n",
       "6445  ['location', 'great', 'bed', 'the', 'uncomfort...  2019-07-10   \n",
       "6446  ['were', 'early', 'check', 'and', 'staff', 've...  2019-07-10   \n",
       "6447  ['staff', 'free', 'coffee', 'location', 'activ...  2019-07-10   \n",
       "\n",
       "                      Location Language  positive_score  negative_score  \\\n",
       "0                    Sebastian       en               5               0   \n",
       "1                  Los Angeles       en               4               0   \n",
       "2                      Georgia       en               1               0   \n",
       "3                          NaN       en               3               4   \n",
       "4                  Palm Harbor       en               5               0   \n",
       "...                        ...      ...             ...             ...   \n",
       "6443  United States of America       en               7               1   \n",
       "6444  United States of America       en               2               0   \n",
       "6445  United States of America       en               1               1   \n",
       "6446  United States of America       en               0               0   \n",
       "6447  United States of America       en               2               0   \n",
       "\n",
       "      polarity_score Month  year  \n",
       "0                  5    08  2019  \n",
       "1                  4    08  2019  \n",
       "2                  1    08  2019  \n",
       "3                 -1    08  2019  \n",
       "4                  5    08  2019  \n",
       "...              ...   ...   ...  \n",
       "6443               6    07  2019  \n",
       "6444               2    07  2019  \n",
       "6445               0    07  2019  \n",
       "6446               0    07  2019  \n",
       "6447               2    07  2019  \n",
       "\n",
       "[5861 rows x 9 columns]"
      ]
     },
     "execution_count": 53,
     "metadata": {},
     "output_type": "execute_result"
    }
   ],
   "source": [
    "en_data"
   ]
  },
  {
   "cell_type": "code",
   "execution_count": 57,
   "metadata": {},
   "outputs": [
    {
     "data": {
      "text/html": [
       "<div>\n",
       "<style scoped>\n",
       "    .dataframe tbody tr th:only-of-type {\n",
       "        vertical-align: middle;\n",
       "    }\n",
       "\n",
       "    .dataframe tbody tr th {\n",
       "        vertical-align: top;\n",
       "    }\n",
       "\n",
       "    .dataframe thead th {\n",
       "        text-align: right;\n",
       "    }\n",
       "</style>\n",
       "<table border=\"1\" class=\"dataframe\">\n",
       "  <thead>\n",
       "    <tr style=\"text-align: right;\">\n",
       "      <th></th>\n",
       "      <th>Review</th>\n",
       "      <th>date</th>\n",
       "      <th>Location</th>\n",
       "      <th>Language</th>\n",
       "      <th>positive_score</th>\n",
       "      <th>negative_score</th>\n",
       "      <th>polarity_score</th>\n",
       "      <th>Month</th>\n",
       "      <th>year</th>\n",
       "    </tr>\n",
       "  </thead>\n",
       "  <tbody>\n",
       "    <tr>\n",
       "      <th>6267</th>\n",
       "      <td>['was', 'close', 'what', 'were', 'for', 'nothi...</td>\n",
       "      <td>2019-08-19</td>\n",
       "      <td>United States of America</td>\n",
       "      <td>en</td>\n",
       "      <td>0</td>\n",
       "      <td>0</td>\n",
       "      <td>0</td>\n",
       "      <td>08</td>\n",
       "      <td>2019</td>\n",
       "    </tr>\n",
       "    <tr>\n",
       "      <th>6271</th>\n",
       "      <td>['location', 'excellent', 'td', 'garden', 'wel...</td>\n",
       "      <td>2019-08-18</td>\n",
       "      <td>United States of America</td>\n",
       "      <td>en</td>\n",
       "      <td>4</td>\n",
       "      <td>0</td>\n",
       "      <td>4</td>\n",
       "      <td>08</td>\n",
       "      <td>2019</td>\n",
       "    </tr>\n",
       "    <tr>\n",
       "      <th>6272</th>\n",
       "      <td>['nothing', 'complain', 'location', 's', 'clos...</td>\n",
       "      <td>2019-08-18</td>\n",
       "      <td>United States of America</td>\n",
       "      <td>en</td>\n",
       "      <td>4</td>\n",
       "      <td>4</td>\n",
       "      <td>0</td>\n",
       "      <td>08</td>\n",
       "      <td>2019</td>\n",
       "    </tr>\n",
       "    <tr>\n",
       "      <th>6273</th>\n",
       "      <td>['location', 'pricing', 'parking', 'extra', 'f...</td>\n",
       "      <td>2019-08-18</td>\n",
       "      <td>United States of America</td>\n",
       "      <td>en</td>\n",
       "      <td>0</td>\n",
       "      <td>0</td>\n",
       "      <td>0</td>\n",
       "      <td>08</td>\n",
       "      <td>2019</td>\n",
       "    </tr>\n",
       "    <tr>\n",
       "      <th>6274</th>\n",
       "      <td>['parking', 'the', 'price', 'pay', 'no', 'park...</td>\n",
       "      <td>2019-08-18</td>\n",
       "      <td>United States of America</td>\n",
       "      <td>en</td>\n",
       "      <td>0</td>\n",
       "      <td>0</td>\n",
       "      <td>0</td>\n",
       "      <td>08</td>\n",
       "      <td>2019</td>\n",
       "    </tr>\n",
       "    <tr>\n",
       "      <th>...</th>\n",
       "      <td>...</td>\n",
       "      <td>...</td>\n",
       "      <td>...</td>\n",
       "      <td>...</td>\n",
       "      <td>...</td>\n",
       "      <td>...</td>\n",
       "      <td>...</td>\n",
       "      <td>...</td>\n",
       "      <td>...</td>\n",
       "    </tr>\n",
       "    <tr>\n",
       "      <th>6443</th>\n",
       "      <td>['staff', 'friendly', 'frank', 'chef', 'buffet...</td>\n",
       "      <td>2019-07-12</td>\n",
       "      <td>United States of America</td>\n",
       "      <td>en</td>\n",
       "      <td>7</td>\n",
       "      <td>1</td>\n",
       "      <td>6</td>\n",
       "      <td>07</td>\n",
       "      <td>2019</td>\n",
       "    </tr>\n",
       "    <tr>\n",
       "      <th>6444</th>\n",
       "      <td>['internet', 'barely', 'worked', 'didn', 'work']</td>\n",
       "      <td>2019-07-12</td>\n",
       "      <td>United States of America</td>\n",
       "      <td>en</td>\n",
       "      <td>2</td>\n",
       "      <td>0</td>\n",
       "      <td>2</td>\n",
       "      <td>07</td>\n",
       "      <td>2019</td>\n",
       "    </tr>\n",
       "    <tr>\n",
       "      <th>6445</th>\n",
       "      <td>['location', 'great', 'bed', 'the', 'uncomfort...</td>\n",
       "      <td>2019-07-10</td>\n",
       "      <td>United States of America</td>\n",
       "      <td>en</td>\n",
       "      <td>1</td>\n",
       "      <td>1</td>\n",
       "      <td>0</td>\n",
       "      <td>07</td>\n",
       "      <td>2019</td>\n",
       "    </tr>\n",
       "    <tr>\n",
       "      <th>6446</th>\n",
       "      <td>['were', 'early', 'check', 'and', 'staff', 've...</td>\n",
       "      <td>2019-07-10</td>\n",
       "      <td>United States of America</td>\n",
       "      <td>en</td>\n",
       "      <td>0</td>\n",
       "      <td>0</td>\n",
       "      <td>0</td>\n",
       "      <td>07</td>\n",
       "      <td>2019</td>\n",
       "    </tr>\n",
       "    <tr>\n",
       "      <th>6447</th>\n",
       "      <td>['staff', 'free', 'coffee', 'location', 'activ...</td>\n",
       "      <td>2019-07-10</td>\n",
       "      <td>United States of America</td>\n",
       "      <td>en</td>\n",
       "      <td>2</td>\n",
       "      <td>0</td>\n",
       "      <td>2</td>\n",
       "      <td>07</td>\n",
       "      <td>2019</td>\n",
       "    </tr>\n",
       "  </tbody>\n",
       "</table>\n",
       "<p>115 rows × 9 columns</p>\n",
       "</div>"
      ],
      "text/plain": [
       "                                                 Review        date  \\\n",
       "6267  ['was', 'close', 'what', 'were', 'for', 'nothi...  2019-08-19   \n",
       "6271  ['location', 'excellent', 'td', 'garden', 'wel...  2019-08-18   \n",
       "6272  ['nothing', 'complain', 'location', 's', 'clos...  2019-08-18   \n",
       "6273  ['location', 'pricing', 'parking', 'extra', 'f...  2019-08-18   \n",
       "6274  ['parking', 'the', 'price', 'pay', 'no', 'park...  2019-08-18   \n",
       "...                                                 ...         ...   \n",
       "6443  ['staff', 'friendly', 'frank', 'chef', 'buffet...  2019-07-12   \n",
       "6444   ['internet', 'barely', 'worked', 'didn', 'work']  2019-07-12   \n",
       "6445  ['location', 'great', 'bed', 'the', 'uncomfort...  2019-07-10   \n",
       "6446  ['were', 'early', 'check', 'and', 'staff', 've...  2019-07-10   \n",
       "6447  ['staff', 'free', 'coffee', 'location', 'activ...  2019-07-10   \n",
       "\n",
       "                      Location Language  positive_score  negative_score  \\\n",
       "6267  United States of America       en               0               0   \n",
       "6271  United States of America       en               4               0   \n",
       "6272  United States of America       en               4               4   \n",
       "6273  United States of America       en               0               0   \n",
       "6274  United States of America       en               0               0   \n",
       "...                        ...      ...             ...             ...   \n",
       "6443  United States of America       en               7               1   \n",
       "6444  United States of America       en               2               0   \n",
       "6445  United States of America       en               1               1   \n",
       "6446  United States of America       en               0               0   \n",
       "6447  United States of America       en               2               0   \n",
       "\n",
       "      polarity_score Month  year  \n",
       "6267               0    08  2019  \n",
       "6271               4    08  2019  \n",
       "6272               0    08  2019  \n",
       "6273               0    08  2019  \n",
       "6274               0    08  2019  \n",
       "...              ...   ...   ...  \n",
       "6443               6    07  2019  \n",
       "6444               2    07  2019  \n",
       "6445               0    07  2019  \n",
       "6446               0    07  2019  \n",
       "6447               2    07  2019  \n",
       "\n",
       "[115 rows x 9 columns]"
      ]
     },
     "execution_count": 57,
     "metadata": {},
     "output_type": "execute_result"
    }
   ],
   "source": [
    "en_data[en_data['Location']=='United States of America']"
   ]
  },
  {
   "cell_type": "code",
   "execution_count": null,
   "metadata": {},
   "outputs": [],
   "source": []
  }
 ],
 "metadata": {
  "kernelspec": {
   "display_name": "Python 3",
   "language": "python",
   "name": "python3"
  },
  "language_info": {
   "codemirror_mode": {
    "name": "ipython",
    "version": 3
   },
   "file_extension": ".py",
   "mimetype": "text/x-python",
   "name": "python",
   "nbconvert_exporter": "python",
   "pygments_lexer": "ipython3",
   "version": "3.8.5"
  }
 },
 "nbformat": 4,
 "nbformat_minor": 4
}
